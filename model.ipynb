{
 "cells": [
  {
   "cell_type": "code",
   "execution_count": 39,
   "metadata": {},
   "outputs": [
    {
     "name": "stdout",
     "output_type": "stream",
     "text": [
      "Predicted Accuracy: 100.0%\n"
     ]
    }
   ],
   "source": [
    "import pandas as pd\n",
    "from sklearn.linear_model import LogisticRegression\n",
    "from sklearn.model_selection import train_test_split\n",
    "from sklearn.metrics import r2_score\n",
    "\n",
    "df = pd.read_csv('ForestFire.csv')\n",
    "df.drop(['Area'],axis=1,inplace=True)\n",
    "X = df\n",
    "Y = df['Fire Occurrence']\n",
    "X.drop(['Fire Occurrence'],inplace=True,axis=1)\n",
    "X_train,X_test,Y_train,Y_test = train_test_split(X,Y,test_size=0.487,random_state=42)\n",
    "\n",
    "model = LogisticRegression()\n",
    "model.fit(X_train,Y_train.ravel())\n",
    "Y_predict = model.predict(X_test)\n",
    "print(f\"Predicted Accuracy: {r2_score(Y_test, Y_predict).round(3)*100}%\")"
   ]
  }
 ],
 "metadata": {
  "kernelspec": {
   "display_name": "Python 3",
   "language": "python",
   "name": "python3"
  },
  "language_info": {
   "codemirror_mode": {
    "name": "ipython",
    "version": 3
   },
   "file_extension": ".py",
   "mimetype": "text/x-python",
   "name": "python",
   "nbconvert_exporter": "python",
   "pygments_lexer": "ipython3",
   "version": "3.11.6"
  }
 },
 "nbformat": 4,
 "nbformat_minor": 2
}
